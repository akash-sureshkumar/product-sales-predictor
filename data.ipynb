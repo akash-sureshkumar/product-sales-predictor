{
  "nbformat": 4,
  "nbformat_minor": 0,
  "metadata": {
    "colab": {
      "provenance": [],
      "authorship_tag": "ABX9TyPDN8KQOIyElU3njxyXRgkr",
      "include_colab_link": true
    },
    "kernelspec": {
      "name": "python3",
      "display_name": "Python 3"
    },
    "language_info": {
      "name": "python"
    }
  },
  "cells": [
    {
      "cell_type": "markdown",
      "metadata": {
        "id": "view-in-github",
        "colab_type": "text"
      },
      "source": [
        "<a href=\"https://colab.research.google.com/github/akash-sureshkumar/product-sales-predictor/blob/main/data.ipynb\" target=\"_parent\"><img src=\"https://colab.research.google.com/assets/colab-badge.svg\" alt=\"Open In Colab\"/></a>"
      ]
    },
    {
      "cell_type": "code",
      "execution_count": 1,
      "metadata": {
        "colab": {
          "base_uri": "https://localhost:8080/"
        },
        "id": "i4E0whYSUv6F",
        "outputId": "8dafcb3b-25d3-4c58-a9e9-ec3b21cb51d6"
      },
      "outputs": [
        {
          "output_type": "stream",
          "name": "stdout",
          "text": [
            "   Ad_Spend  Online_Visits  Units_Sold\n",
            "0      1000            200          20\n",
            "1      1500            300          30\n",
            "2      2000            400          50\n",
            "3      2500            500          60\n",
            "4      3000            600          70\n",
            "5      3500            700          90\n"
          ]
        }
      ],
      "source": [
        "import pandas as pd\n",
        "import numpy as np\n",
        "\n",
        "data = {\n",
        "    'Ad_Spend': [1000, 1500, 2000, 2500, 3000, 3500],\n",
        "    'Online_Visits': [200, 300, 400, 500, 600, 700],\n",
        "    'Units_Sold': [20, 30, 50, 60, 70, 90]\n",
        "}\n",
        "df = pd.DataFrame(data)\n",
        "print(df)\n",
        "\n",
        "from sklearn.model_selection import train_test_split\n",
        "\n",
        "x = df[['Ad_Spend', 'Online_Visits']]\n",
        "y = df['Units_Sold']\n",
        "\n",
        "x_train, x_test, y_train, y_test = train_test_split(x, y, test_size=0.2, random_state=42)"
      ]
    }
  ]
}