{
  "nbformat": 4,
  "nbformat_minor": 0,
  "metadata": {
    "colab": {
      "provenance": [],
      "authorship_tag": "ABX9TyMBymdGFcdvIe4frq6t+Yry",
      "include_colab_link": true
    },
    "kernelspec": {
      "name": "python3",
      "display_name": "Python 3"
    },
    "language_info": {
      "name": "python"
    }
  },
  "cells": [
    {
      "cell_type": "markdown",
      "metadata": {
        "id": "view-in-github",
        "colab_type": "text"
      },
      "source": [
        "<a href=\"https://colab.research.google.com/github/akash-sureshkumar/product-sales-predictor/blob/main/goldsaleIP.ipynb\" target=\"_parent\"><img src=\"https://colab.research.google.com/assets/colab-badge.svg\" alt=\"Open In Colab\"/></a>"
      ]
    },
    {
      "cell_type": "code",
      "execution_count": 6,
      "metadata": {
        "colab": {
          "base_uri": "https://localhost:8080/"
        },
        "id": "1ouoVw7WYNRR",
        "outputId": "eced60a7-e648-41f0-ef05-cb40f91f8a7e"
      },
      "outputs": [
        {
          "output_type": "stream",
          "name": "stdout",
          "text": [
            "   Ad_Spend  Online_Visits  Gold_Units_Sold\n",
            "0      8270            646               58\n",
            "1      1860            838               34\n",
            "2      6390            712               59\n",
            "3      6191            561               40\n",
            "4      6734            742               57\n",
            "Mean Squared Error: 42.20763397216797\n"
          ]
        },
        {
          "output_type": "execute_result",
          "data": {
            "text/plain": [
              "['xgboost_model.pkl']"
            ]
          },
          "metadata": {},
          "execution_count": 6
        }
      ],
      "source": [
        "import pandas as pd\n",
        "import numpy as np\n",
        "from sklearn.model_selection import train_test_split\n",
        "from sklearn.metrics import mean_squared_error\n",
        "from xgboost import XGBRegressor\n",
        "import joblib\n",
        "\n",
        "df = pd.read_csv('/content/gold_sales_data.csv')\n",
        "print(df.head())\n",
        "\n",
        "from sklearn.model_selection import train_test_split\n",
        "\n",
        "x = df[['Ad_Spend', 'Online_Visits']]\n",
        "y = df['Gold_Units_Sold']\n",
        "\n",
        "x_train, x_test, y_train, y_test = train_test_split(x, y, test_size=0.2, random_state=42)\n",
        "\n",
        "\n",
        "model = XGBRegressor()\n",
        "model.fit(x_train, y_train)\n",
        "from sklearn.metrics import mean_squared_error\n",
        "y_pred = model.predict(x_test)\n",
        "mse = mean_squared_error(y_test, y_pred)\n",
        "print(\"Mean Squared Error:\", mse)\n",
        "import joblib\n",
        "joblib.dump(model, 'xgboost_model.pkl')"
      ]
    },
    {
      "cell_type": "code",
      "source": [],
      "metadata": {
        "id": "1x6cu4UsZxlZ"
      },
      "execution_count": null,
      "outputs": []
    }
  ]
}